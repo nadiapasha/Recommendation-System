{
 "cells": [
  {
   "cell_type": "markdown",
   "id": "6c8df18a",
   "metadata": {},
   "source": [
    "# Recommender System Using Collaborative Filtering and Scipy's \"surprise\" Library"
   ]
  },
  {
   "cell_type": "code",
   "execution_count": null,
   "id": "5d018bcf",
   "metadata": {},
   "outputs": [],
   "source": [
    "import numpy as np\n",
    "import pandas as pd"
   ]
  },
  {
   "cell_type": "code",
   "execution_count": null,
   "id": "0ea2dbf4",
   "metadata": {},
   "outputs": [],
   "source": [
    "from surprise import Reader, Dataset"
   ]
  },
  {
   "cell_type": "code",
   "execution_count": null,
   "id": "1ec912d0",
   "metadata": {},
   "outputs": [],
   "source": [
    "from collections import defaultdict\n",
    "from operator import itemgetter\n",
    "import heapq"
   ]
  },
  {
   "cell_type": "markdown",
   "id": "7f42e68c",
   "metadata": {},
   "source": [
    "### Read and Manipulate Data"
   ]
  },
  {
   "cell_type": "code",
   "execution_count": null,
   "id": "698f2616",
   "metadata": {},
   "outputs": [],
   "source": [
    "df = pd.read_csv(\"RAW_interactions.csv\") # interactions data\n",
    "df = df.drop(columns = [\"date\",\"review\"]) # dropping columns that won't be used"
   ]
  },
  {
   "cell_type": "code",
   "execution_count": null,
   "id": "e3543525",
   "metadata": {},
   "outputs": [],
   "source": [
    "# map of raw_id to new_id for recipes for better integration\n",
    "df_map = pd.read_csv(\"recipe_id_map.csv\")\n",
    "df_map = df_map.rename(columns = {'id':'recipe_id'})"
   ]
  },
  {
   "cell_type": "markdown",
   "id": "a123002d",
   "metadata": {},
   "source": [
    "### Data manipulation"
   ]
  },
  {
   "cell_type": "code",
   "execution_count": null,
   "id": "edf55851",
   "metadata": {},
   "outputs": [],
   "source": [
    "df_mapped = df.join(df_map.set_index(\"recipe_id\"),on = \"recipe_id\").reset_index(drop = True)\n",
    "#df_mapped.head()"
   ]
  },
  {
   "cell_type": "code",
   "execution_count": null,
   "id": "4d722dd2",
   "metadata": {},
   "outputs": [],
   "source": [
    "# selecting only rows where rating is 1-5\n",
    "\n",
    "df1_5 = df_mapped[df_mapped.rating > 0]\n",
    "df1_5 = df1_5.drop(columns = [\"recipe_id\"]).rename(columns = {\"new_id\":\"recipe_id\"})\n",
    "df1_5 = df1_5[[\"user_id\",\"recipe_id\",\"rating\"]]\n",
    "\n",
    "#df1_5.user_id.value_counts() #total unique recipes are 226590, users 196098"
   ]
  },
  {
   "cell_type": "code",
   "execution_count": null,
   "id": "1ea04a39",
   "metadata": {},
   "outputs": [],
   "source": [
    "# df for filtering recipes that have been rated more than 5 times\n",
    "df_recipes = df1_5.recipe_id.value_counts().to_frame().reset_index()\n",
    "df_recipes.rename(columns = {\"index\":\"recipe_id\",\"recipe_id\":\"num_ratings\"},inplace = True)\n",
    "df_pop_recipes = df_recipes[df_recipes.num_ratings>3] #****************\n"
   ]
  },
  {
   "cell_type": "code",
   "execution_count": null,
   "id": "64d17f1d",
   "metadata": {},
   "outputs": [],
   "source": [
    "# join to get interaction df with recipes rated more than 5 times\n",
    "df_few_recipes = df1_5.join(df_pop_recipes.set_index(\"recipe_id\"), on=\"recipe_id\", how = \"right\", lsuffix='', rsuffix='', sort=False).reset_index(drop = True)\n",
    "df_few_recipes = df_few_recipes.drop(columns = [\"num_ratings\"])\n",
    "#df_few_recipes.head()"
   ]
  },
  {
   "cell_type": "code",
   "execution_count": null,
   "id": "3dc8da59",
   "metadata": {},
   "outputs": [],
   "source": [
    "# dataframe of users \n",
    "df_users = df1_5.user_id.value_counts().to_frame().reset_index()\n",
    "df_users.rename(columns = {\"index\":\"user_id\",\"user_id\":\"num_ratings\"},inplace = True)\n",
    "#print(len(df_users))\n",
    "#df_users.head("
   ]
  },
  {
   "cell_type": "code",
   "execution_count": null,
   "id": "4838777b",
   "metadata": {},
   "outputs": [],
   "source": [
    "# users that have rated more than 10 recipes\n",
    "df_active_users = df_users[df_users.num_ratings > 5] #********************"
   ]
  },
  {
   "cell_type": "code",
   "execution_count": null,
   "id": "e98cd5c9",
   "metadata": {},
   "outputs": [],
   "source": [
    "# left join to keep only active users otherwise we have 196098.\n",
    "small_df = df_few_recipes.join(df_active_users.set_index(\"user_id\"), on=\"user_id\", how = \"right\", lsuffix='', rsuffix='', sort=False).reset_index(drop = True)\n",
    "small_df = small_df.drop(columns = [\"num_ratings\"])"
   ]
  },
  {
   "cell_type": "code",
   "execution_count": null,
   "id": "561cf2bf",
   "metadata": {},
   "outputs": [],
   "source": [
    "# removing null values\n",
    "small_df = small_df[small_df['recipe_id'].isna() == False]\n",
    "small_df = small_df[small_df['user_id'].isna() == False]\n",
    "small_df = small_df[small_df['rating'].isna() == False]"
   ]
  },
  {
   "cell_type": "code",
   "execution_count": null,
   "id": "7185cad4",
   "metadata": {},
   "outputs": [],
   "source": [
    "# changing float to int\n",
    "cols = [\"recipe_id\",\"rating\"]\n",
    "small_df[cols] = small_df[cols].astype(int)"
   ]
  },
  {
   "cell_type": "code",
   "execution_count": null,
   "id": "1679607b",
   "metadata": {},
   "outputs": [],
   "source": [
    "# To check number of unique users and recipes\n",
    "\n",
    "#small_df.recipe_id.value_counts() \n",
    "\n",
    "# filtering by users >100 and recipe ratings > 20 gives 6855 recipes and 1345 users\n",
    "# >3 recipe ratings & >3 user ratings gives 65615 recipes & 26836 users\n",
    "# >4 recipes ,>5 users gives 18810 users, 50694 recipes "
   ]
  },
  {
   "cell_type": "markdown",
   "id": "dc58344e",
   "metadata": {},
   "source": [
    "### Similarity Matrix for recommending top 5 recipes for a given user"
   ]
  },
  {
   "cell_type": "code",
   "execution_count": null,
   "id": "a1bc01bd",
   "metadata": {},
   "outputs": [],
   "source": [
    "# read data for matrix calc\n",
    "reader = Reader()\n",
    "data = Dataset.load_from_df(small_df, reader)"
   ]
  },
  {
   "cell_type": "code",
   "execution_count": null,
   "id": "d858f743",
   "metadata": {},
   "outputs": [],
   "source": [
    "# similarity matrix using KNNBasic\n",
    "from time import time\n",
    "\n",
    "from surprise import KNNBasic\n",
    "\n",
    "t0 = time()\n",
    "\n",
    "data_matrix = Dataset.load_from_df(small_df, reader)\n",
    "# use full set to build as it will automatically use already rated as training and recommend \n",
    "# out of those that have not been rated\n",
    "trainset2 = data_matrix.build_full_trainset()\n",
    "\n",
    "# To use item-based cosine similarity\n",
    "sim_options = {\n",
    "    \"name\": \"msd\",\n",
    "    \"user_based\": False,  # Compute similarities between items\n",
    "}\n",
    "similarity_matrix = KNNBasic(sim_options=sim_options).fit(trainset2).compute_similarities()\n",
    "\n",
    "t1 = time()\n",
    "\n",
    "print('matrix computation takes %f' %(t1-t0))"
   ]
  },
  {
   "cell_type": "code",
   "execution_count": null,
   "id": "bbb0cf91",
   "metadata": {},
   "outputs": [],
   "source": [
    "def recommend(test_subject,k=5):\n",
    "    # convert raw id to inner id\n",
    "    test_subject_iid = trainset2.to_inner_uid(test_subject)\n",
    "    #get the top k items user rated\n",
    "    test_subject_ratings = trainset2.ur[test_subject_iid]\n",
    "    #test_subject_ratings = trainset.ur[1]\n",
    "    k_neighbors = heapq.nlargest(k,test_subject_ratings,key = lambda t:t[1]) # gives 5 neighbor recipes for user\n",
    "    \n",
    "    # candidates dictionary\n",
    "    candidates = defaultdict(float)\n",
    "    for itemID, rating in k_neighbors:\n",
    "        try:\n",
    "            similarities = similarity_matrix[itemID] # get vector from similarity matrix \n",
    "            for innerID, score in enumerate(similarities):\n",
    "                candidates[innerID] += score * (rating/5.0)\n",
    "        except:\n",
    "            continue\n",
    "    \n",
    "    #Build dict of recipes user has rated\n",
    "    rated = {}\n",
    "    for itemID, rating in trainset2.ur[test_subject_iid]:\n",
    "        rated[itemID] = 1\n",
    "    \n",
    "    # add items to users recommendations if similar to what they like and have not already rated\n",
    "    recommendations =[]\n",
    "    position = 0\n",
    "    for itemID, rating_sum in sorted(candidates.items(), key = itemgetter(1), reverse = True): # sorted makes sure you recommend good recipes\n",
    "        if not itemID in rated:\n",
    "            recommendations.append(trainset2.to_raw_iid(itemID))\n",
    "            position += 1\n",
    "            if (position >=5):break # we only want top 10\n",
    "    return recommendations"
   ]
  },
  {
   "cell_type": "markdown",
   "id": "c89fe5d0",
   "metadata": {},
   "source": [
    "#### Tests to ensure quality "
   ]
  },
  {
   "cell_type": "code",
   "execution_count": null,
   "id": "8410ede2",
   "metadata": {},
   "outputs": [],
   "source": [
    "t2 = time()\n",
    "rec_dict ={}\n",
    "for user in small_df['user_id'].unique():\n",
    "    rec_dict[user] = recommend(user)\n",
    "    \n",
    "t3 = time()\n",
    "print('dict computation takes %f' %(t3-t2))"
   ]
  },
  {
   "cell_type": "code",
   "execution_count": null,
   "id": "b26b66a2",
   "metadata": {},
   "outputs": [],
   "source": [
    "# to check we have recommendations for all users.\n",
    "num_null_recs = 0\n",
    "for x in rec_dict:\n",
    "    if len(rec_dict[x]) < 5:\n",
    "        num_null_recs+=1\n",
    "print(num_null_recs)"
   ]
  },
  {
   "cell_type": "markdown",
   "id": "1eae7823",
   "metadata": {},
   "source": [
    "### Producing .csv file containing user and their recommendations"
   ]
  },
  {
   "cell_type": "code",
   "execution_count": null,
   "id": "a97fdf61",
   "metadata": {},
   "outputs": [],
   "source": [
    "#create dataframe from dict\n",
    "rec_df = pd.DataFrame.from_dict(rec_dict)"
   ]
  },
  {
   "cell_type": "code",
   "execution_count": null,
   "id": "800aeda3",
   "metadata": {},
   "outputs": [],
   "source": [
    "# flip orientation of dataframe\"\n",
    "rec_df_flip = rec_df.T"
   ]
  },
  {
   "cell_type": "code",
   "execution_count": null,
   "id": "c3a7eb56",
   "metadata": {},
   "outputs": [],
   "source": [
    "rec_df_flip.reset_index(inplace = True)\n",
    "rec_df_flip.rename(columns={'index':'user_id',0:'rec1',1:'rec2',2:'rec3',3:'rec4',4:'rec5'}, inplace = True)\n",
    "rec_df_flip.head()"
   ]
  },
  {
   "cell_type": "code",
   "execution_count": null,
   "id": "81cdb5cb",
   "metadata": {},
   "outputs": [],
   "source": [
    "# convert to csv\n",
    "rec_df_flip.to_csv(\"user_recommendations.csv\")"
   ]
  },
  {
   "cell_type": "markdown",
   "id": "c277f1ad",
   "metadata": {},
   "source": [
    "### Code for finding recipes similar to one provided"
   ]
  },
  {
   "cell_type": "code",
   "execution_count": null,
   "id": "2a5c6ed7",
   "metadata": {},
   "outputs": [],
   "source": [
    "raw_iid = 173430\n",
    "inner_recipe_id = trainset2.to_inner_iid(raw_iid)\n",
    "print(inner_recipe_id)\n",
    "sim_recipes = similarity_matrix[inner_recipe_id]\n",
    "recs = defaultdict(float)\n",
    "same_recipes = []\n",
    "for item,score in enumerate(sim_recipes):\n",
    "    \n",
    "    recs[trainset2.to_raw_iid(item)]+=score\n",
    "    if score ==1:\n",
    "        same_recipes.append(trainset2.to_raw_iid(item))\n",
    "        three_sim = same_recipes[:3]\n",
    "#print(same_recipes)\n",
    "print(three_sim)"
   ]
  }
 ],
 "metadata": {
  "kernelspec": {
   "display_name": "Python 3 (ipykernel)",
   "language": "python",
   "name": "python3"
  },
  "language_info": {
   "codemirror_mode": {
    "name": "ipython",
    "version": 3
   },
   "file_extension": ".py",
   "mimetype": "text/x-python",
   "name": "python",
   "nbconvert_exporter": "python",
   "pygments_lexer": "ipython3",
   "version": "3.9.9"
  }
 },
 "nbformat": 4,
 "nbformat_minor": 5
}
